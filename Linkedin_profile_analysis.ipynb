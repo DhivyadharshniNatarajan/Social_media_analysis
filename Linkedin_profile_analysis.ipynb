{
  "nbformat": 4,
  "nbformat_minor": 0,
  "metadata": {
    "colab": {
      "name": "Linkedin_profile_analysis.ipynb",
      "provenance": []
    },
    "kernelspec": {
      "name": "python3",
      "display_name": "Python 3"
    },
    "language_info": {
      "name": "python"
    }
  },
  "cells": [
    {
      "cell_type": "markdown",
      "source": [
        "#Linkedin Profile Analysis"
      ],
      "metadata": {
        "id": "5MKy-vTTdNNu"
      }
    },
    {
      "cell_type": "code",
      "source": [
        "import os\n",
        "import csv\n",
        "\n",
        "# Point this to your 'Connections.csv' file.\n",
        "CSV_FILE = os.path.join('resources', 'ch04-linkedin', 'Connections.csv')\n",
        "\n",
        "csvReader = csv.DictReader(open(\"/content/Connections.csv\"), delimiter=',', quotechar='\"')\n",
        "contacts = [row for row in csvReader]"
      ],
      "metadata": {
        "id": "v4KZYkvElVxM"
      },
      "execution_count": 2,
      "outputs": []
    },
    {
      "cell_type": "markdown",
      "source": [
        "###Simple normalization of company suffixes from address book data\n"
      ],
      "metadata": {
        "id": "xSYo9DueqsCh"
      }
    },
    {
      "cell_type": "code",
      "source": [
        "from prettytable import PrettyTable # pip install prettytable\n",
        "from collections import Counter\n",
        "from operator import itemgetter\n",
        "\n",
        "# Define a set of transforms that converts the first item\n",
        "# to the second item. Here, we're simply handling some\n",
        "# commonly known abbreviations, stripping off common suffixes, \n",
        "# etc.\n",
        "\n",
        "transforms = [(', Inc.', ''), (', Inc', ''), (', LLC', ''), (', LLP', ''),\n",
        "               (' LLC', ''), (' Inc.', ''), (' Inc', '')]\n",
        "\n",
        "companies = [c['Company'].strip() for c in contacts if c['Company'].strip() != '']\n",
        "\n",
        "for i, _ in enumerate(companies):\n",
        "    for transform in transforms:\n",
        "        companies[i] = companies[i].replace(*transform)\n",
        "\n",
        "pt = PrettyTable(field_names=['Company', 'Freq'])\n",
        "pt.align = 'l'\n",
        "c = Counter(companies)\n",
        "\n",
        "[pt.add_row([company, freq]) for (company, freq) in sorted(c.items(), key=itemgetter(1), reverse=True) if freq > 1]\n",
        "\n",
        "print(pt)\n"
      ],
      "metadata": {
        "id": "lzEtYyYilVz9",
        "colab": {
          "base_uri": "https://localhost:8080/"
        },
        "outputId": "4437cc95-279e-48e3-f72f-68236f797b86"
      },
      "execution_count": 3,
      "outputs": [
        {
          "output_type": "stream",
          "name": "stdout",
          "text": [
            "+--------------------------------------------------+------+\n",
            "| Company                                          | Freq |\n",
            "+--------------------------------------------------+------+\n",
            "| Infosys                                          | 68   |\n",
            "| Wipro                                            | 4    |\n",
            "| Cognizant                                        | 3    |\n",
            "| MENMOZHI TECHNOLOGIES                            | 3    |\n",
            "| Deloitte                                         | 3    |\n",
            "| Accenture                                        | 3    |\n",
            "| Bishop Heber College, Tiruchirappalli - 620 017. | 3    |\n",
            "| Indian Institute of Technology, Madras           | 2    |\n",
            "| Microsoft                                        | 2    |\n",
            "| Tata Consultancy Services                        | 2    |\n",
            "| BYJU'S                                           | 2    |\n",
            "| The Sparks Foundation                            | 2    |\n",
            "| Zoho Corporation                                 | 2    |\n",
            "| Infosys Ltd                                      | 2    |\n",
            "+--------------------------------------------------+------+\n"
          ]
        }
      ]
    },
    {
      "cell_type": "markdown",
      "source": [
        "###Standardizing common job titles and computing their frequencies"
      ],
      "metadata": {
        "id": "rAdavuq_qzlo"
      }
    },
    {
      "cell_type": "code",
      "source": [
        "transforms = [\n",
        "    ('Sr.', 'Senior'),\n",
        "    ('Sr', 'Senior'),\n",
        "    ('Jr.', 'Junior'),\n",
        "    ('Jr', 'Junior'),\n",
        "    ('CEO', 'Chief Executive Officer'),\n",
        "    ('COO', 'Chief Operating Officer'),\n",
        "    ('CTO', 'Chief Technology Officer'),\n",
        "    ('CFO', 'Chief Finance Officer'),\n",
        "    ('VP', 'Vice President'),\n",
        "    ]\n",
        "\n",
        "# Read in a list of titles and split apart\n",
        "# any combined titles like \"President/CEO.\"\n",
        "# Other variations could be handled as well, such\n",
        "# as \"President & CEO\", \"President and CEO\", etc.\n",
        "\n",
        "titles = []\n",
        "for contact in contacts:\n",
        "    titles.extend([t.strip() for t in contact['Position'].split('/')\n",
        "                  if contact['Position'].strip() != ''])\n",
        "\n",
        "# Replace common/known abbreviations\n",
        "\n",
        "for i, _ in enumerate(titles):\n",
        "    for transform in transforms:\n",
        "        titles[i] = titles[i].replace(*transform)\n",
        "\n",
        "# Print out a table of titles sorted by frequency\n",
        "\n",
        "pt = PrettyTable(field_names=['Job Title', 'Freq'])\n",
        "pt.align = 'l'\n",
        "c = Counter(titles)\n",
        "[pt.add_row([title, freq]) \n",
        " for (title, freq) in sorted(c.items(), key=itemgetter(1), reverse=True) \n",
        "     if freq > 1]\n",
        "print(pt)\n",
        "\n",
        "# Print out a table of tokens sorted by frequency\n",
        "\n",
        "tokens = []\n",
        "for title in titles:\n",
        "    tokens.extend([t.strip(',') for t in title.split()])\n",
        "pt = PrettyTable(field_names=['Token', 'Freq'])\n",
        "pt.align = 'l'\n",
        "c = Counter(tokens)\n",
        "[pt.add_row([token, freq]) \n",
        " for (token, freq) in sorted(c.items(), key=itemgetter(1), reverse=True) \n",
        "     if freq > 1 and len(token) > 2]\n",
        "print(pt)"
      ],
      "metadata": {
        "id": "85ytaWjWljI6",
        "colab": {
          "base_uri": "https://localhost:8080/"
        },
        "outputId": "39fb2f84-0e21-49ad-e41e-5c791cd1c6eb"
      },
      "execution_count": 4,
      "outputs": [
        {
          "output_type": "stream",
          "name": "stdout",
          "text": [
            "+-------------------------------------+------+\n",
            "| Job Title                           | Freq |\n",
            "+-------------------------------------+------+\n",
            "| System Engineer                     | 25   |\n",
            "| Senior System Engineer              | 17   |\n",
            "| Software Engineer                   | 5    |\n",
            "| Systems Engineer                    | 5    |\n",
            "| Data Scientist                      | 4    |\n",
            "| Data Engineer                       | 3    |\n",
            "| Technology Analyst                  | 3    |\n",
            "| Operations Executive                | 3    |\n",
            "| Software Developer                  | 2    |\n",
            "| Senior Software Engineer            | 2    |\n",
            "| Founder and Chief Executive Officer | 2    |\n",
            "| Data Analyst                        | 2    |\n",
            "| Analyst                             | 2    |\n",
            "| Test Engineer                       | 2    |\n",
            "| Associate Consultant                | 2    |\n",
            "| Business Analyst                    | 2    |\n",
            "| Application Development Analyst     | 2    |\n",
            "| Senior Systems Engineer             | 2    |\n",
            "| Guest Lecturer                      | 2    |\n",
            "+-------------------------------------+------+\n",
            "+--------------+------+\n",
            "| Token        | Freq |\n",
            "+--------------+------+\n",
            "| Engineer     | 74   |\n",
            "| System       | 43   |\n",
            "| Senior       | 36   |\n",
            "| Data         | 28   |\n",
            "| Analyst      | 23   |\n",
            "| Software     | 15   |\n",
            "| Associate    | 12   |\n",
            "| Executive    | 10   |\n",
            "| Intern       | 9    |\n",
            "| and          | 9    |\n",
            "| Consultant   | 9    |\n",
            "| Technology   | 9    |\n",
            "| Development  | 9    |\n",
            "| Scientist    | 8    |\n",
            "| Science      | 8    |\n",
            "| Business     | 8    |\n",
            "| Manager      | 8    |\n",
            "| Developer    | 7    |\n",
            "| Systems      | 7    |\n",
            "| Specialist   | 6    |\n",
            "| Learning     | 6    |\n",
            "| Operations   | 5    |\n",
            "| Technical    | 5    |\n",
            "| Founder      | 5    |\n",
            "| Scholar      | 4    |\n",
            "| Analytics    | 4    |\n",
            "| Director     | 4    |\n",
            "| Chief        | 4    |\n",
            "| Officer      | 4    |\n",
            "| Artificial   | 3    |\n",
            "| Intelligence | 3    |\n",
            "| Professor    | 3    |\n",
            "| Operation    | 3    |\n",
            "| Management   | 3    |\n",
            "| Student      | 3    |\n",
            "| Test         | 3    |\n",
            "| Lead         | 3    |\n",
            "| Advisor      | 2    |\n",
            "| Research     | 2    |\n",
            "| Digital      | 2    |\n",
            "| Marketing    | 2    |\n",
            "| Programmer   | 2    |\n",
            "| Academic     | 2    |\n",
            "| Assistant    | 2    |\n",
            "| Talent       | 2    |\n",
            "| Member       | 2    |\n",
            "| Staff        | 2    |\n",
            "| Vice         | 2    |\n",
            "| President    | 2    |\n",
            "| Principal    | 2    |\n",
            "| Trainee      | 2    |\n",
            "| Machine      | 2    |\n",
            "| trainee      | 2    |\n",
            "| Project      | 2    |\n",
            "| Applications | 2    |\n",
            "| Application  | 2    |\n",
            "| Guest        | 2    |\n",
            "| Lecturer     | 2    |\n",
            "+--------------+------+\n"
          ]
        }
      ]
    },
    {
      "cell_type": "markdown",
      "source": [
        "###Geocoding locations with Google Maps"
      ],
      "metadata": {
        "id": "o3ChaHgBq_y4"
      }
    },
    {
      "cell_type": "code",
      "source": [
        ""
      ],
      "metadata": {
        "id": "fK4p4MGwljMM"
      },
      "execution_count": null,
      "outputs": []
    },
    {
      "cell_type": "code",
      "source": [
        ""
      ],
      "metadata": {
        "id": "ReIYOphxljPQ"
      },
      "execution_count": null,
      "outputs": []
    },
    {
      "cell_type": "code",
      "source": [
        ""
      ],
      "metadata": {
        "id": "GExbZr4XljR2"
      },
      "execution_count": null,
      "outputs": []
    },
    {
      "cell_type": "code",
      "source": [
        ""
      ],
      "metadata": {
        "id": "uDw9D0AVlV3M"
      },
      "execution_count": null,
      "outputs": []
    }
  ]
}